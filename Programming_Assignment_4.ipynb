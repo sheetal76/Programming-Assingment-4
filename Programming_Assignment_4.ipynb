{
  "nbformat": 4,
  "nbformat_minor": 0,
  "metadata": {
    "colab": {
      "provenance": []
    },
    "kernelspec": {
      "name": "python3",
      "display_name": "Python 3"
    },
    "language_info": {
      "name": "python"
    }
  },
  "cells": [
    {
      "cell_type": "code",
      "execution_count": null,
      "metadata": {
        "id": "PQutMbKxS6I3"
      },
      "outputs": [],
      "source": [
        "# 1. Write a Python Program to Find the Factorial of a Number?"
      ]
    },
    {
      "cell_type": "code",
      "source": [
        "n= int(input(\"enter a num \"))\n",
        "fact = 1\n",
        "for i in range(n,0, -1):\n",
        "  fact = fact*i\n",
        "print(\"\\n factorial of {} is {}\".format(n,fact))\n"
      ],
      "metadata": {
        "colab": {
          "base_uri": "https://localhost:8080/"
        },
        "id": "mPWa-rApTI2P",
        "outputId": "a69f8f08-9811-4ebd-9c69-a9e247ba50bc"
      },
      "execution_count": null,
      "outputs": [
        {
          "output_type": "stream",
          "name": "stdout",
          "text": [
            "enter a num 4\n",
            "\n",
            " factorial of 4 is 24\n"
          ]
        }
      ]
    },
    {
      "cell_type": "code",
      "source": [
        "# 2. Write a Python Program to Display the multiplication Table?"
      ],
      "metadata": {
        "id": "gQh3cqC3UFM6"
      },
      "execution_count": null,
      "outputs": []
    },
    {
      "cell_type": "code",
      "source": [
        "n = int(input(\"enter a num \"))\n",
        "for i in range(1,11):\n",
        "  print(\"{}*{}={}\".format(n,i,n*i))\n"
      ],
      "metadata": {
        "colab": {
          "base_uri": "https://localhost:8080/"
        },
        "id": "q8V8CV-6Va-L",
        "outputId": "2e999fe9-f88b-47d3-9385-4b88fa6e1aa2"
      },
      "execution_count": null,
      "outputs": [
        {
          "output_type": "stream",
          "name": "stdout",
          "text": [
            "enter a num 12\n",
            "12*1=12\n",
            "12*2=24\n",
            "12*3=36\n",
            "12*4=48\n",
            "12*5=60\n",
            "12*6=72\n",
            "12*7=84\n",
            "12*8=96\n",
            "12*9=108\n",
            "12*10=120\n"
          ]
        }
      ]
    },
    {
      "cell_type": "code",
      "source": [
        "# 3. Write a Python Program to Print the Fibonacci sequence?"
      ],
      "metadata": {
        "id": "nrRgbnruXz3l"
      },
      "execution_count": null,
      "outputs": []
    },
    {
      "cell_type": "code",
      "source": [
        "length = int(input(\"enter a len\" ))\n",
        "a=0\n",
        "b=1\n",
        "print(a, end = ' ')\n",
        "print(b, end = ' ')\n",
        "while(length-2 > 0):\n",
        "  nt = a+b\n",
        "  print(nt, end= ' ')\n",
        "  a = b\n",
        "  b = nt\n",
        "  length -=1\n",
        "\n",
        "\n",
        "\n",
        "\n"
      ],
      "metadata": {
        "colab": {
          "base_uri": "https://localhost:8080/"
        },
        "id": "i2xWfYfHZDmi",
        "outputId": "69c4577a-f627-46d7-f8a0-597131dd32c7"
      },
      "execution_count": null,
      "outputs": [
        {
          "output_type": "stream",
          "name": "stdout",
          "text": [
            "enter a len5\n",
            "0 1 1 2 3 "
          ]
        }
      ]
    },
    {
      "cell_type": "code",
      "source": [
        "# 4. Write a Python Program to Check Armstrong Number?"
      ],
      "metadata": {
        "id": "6qM59IcGmDwm"
      },
      "execution_count": null,
      "outputs": []
    },
    {
      "cell_type": "code",
      "source": [
        "def is_armstrong(num):\n",
        "  n_str= str(num)\n",
        "  n_len=len(n_str)\n",
        "  armstrong_sum = sum(int(digit) ** n_len for digit in n_str)\n",
        "  return armstrong_sum == num\n",
        "num = int(input(\"Enter a number: \"))\n",
        "if is_armstrong(num):\n",
        "    print(f\"{num} is an Armstrong number.\")\n",
        "else:\n",
        "    print(f\"{num} is not an Armstrong number.\")\n",
        "\n"
      ],
      "metadata": {
        "id": "RAd3rFgNpbhh",
        "colab": {
          "base_uri": "https://localhost:8080/"
        },
        "outputId": "a1904da9-ea8a-4703-f314-b4edb65c00b8"
      },
      "execution_count": null,
      "outputs": [
        {
          "output_type": "stream",
          "name": "stdout",
          "text": [
            "Enter a number: 153\n",
            "153 is an Armstrong number.\n"
          ]
        }
      ]
    },
    {
      "cell_type": "code",
      "source": [
        "# 5. Write a Python Program to Find Armstrong Number in an Interval?"
      ],
      "metadata": {
        "id": "EZgj_f_9RCih"
      },
      "execution_count": 1,
      "outputs": []
    },
    {
      "cell_type": "code",
      "source": [
        "def is_armstrong(num):\n",
        "  n_str= str(num)\n",
        "  n_len=len(n_str)\n",
        "  armstrong_sum = sum(int(digit) ** n_len for digit in n_str)\n",
        "  return armstrong_sum == num\n",
        "\n",
        "def armstrong_numbers_in_interval(start, end):\n",
        "    armstrong_numbers = []\n",
        "    for num in range(start, end + 1):\n",
        "        if is_armstrong(num):\n",
        "            armstrong_numbers.append(num)\n",
        "    return armstrong_numbers\n",
        "\n",
        "start_interval = 10\n",
        "end_interval = 10000\n",
        "result = armstrong_numbers_in_interval(start_interval, end_interval)\n",
        "\n",
        "print(f\"Armstrong numbers in the interval [{start_interval}, {end_interval}]:\")\n",
        "print(result)\n"
      ],
      "metadata": {
        "colab": {
          "base_uri": "https://localhost:8080/"
        },
        "id": "YkYbjdqeYA_L",
        "outputId": "bd95eeec-2542-47dc-8f3a-bb98eafe7285"
      },
      "execution_count": 7,
      "outputs": [
        {
          "output_type": "stream",
          "name": "stdout",
          "text": [
            "Armstrong numbers in the interval [10, 10000]:\n",
            "[153, 370, 371, 407, 1634, 8208, 9474]\n"
          ]
        }
      ]
    },
    {
      "cell_type": "code",
      "source": [],
      "metadata": {
        "id": "TOMi2sfmY9ha"
      },
      "execution_count": null,
      "outputs": []
    }
  ]
}